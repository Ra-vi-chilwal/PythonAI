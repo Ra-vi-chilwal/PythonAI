{
 "cells": [
  {
   "cell_type": "code",
   "execution_count": 6,
   "id": "aef892c0",
   "metadata": {},
   "outputs": [],
   "source": [
    "import numpy as np\n",
    "import tensorflow as tf\n",
    "from  tensorflow.keras.datasets import imdb\n",
    "from tensorflow.keras.preprocessing import sequence \n",
    "from tensorflow.keras.models import load_model"
   ]
  },
  {
   "cell_type": "code",
   "execution_count": 7,
   "id": "58260f23",
   "metadata": {},
   "outputs": [],
   "source": [
    "word_index = imdb.get_word_index()\n",
    "reverse_word_index = {value:key for key,value in word_index.items()}\n"
   ]
  },
  {
   "cell_type": "code",
   "execution_count": 8,
   "id": "ad9bbed5",
   "metadata": {},
   "outputs": [
    {
     "name": "stderr",
     "output_type": "stream",
     "text": [
      "WARNING:absl:Compiled the loaded model, but the compiled metrics have yet to be built. `model.compile_metrics` will be empty until you train or evaluate the model.\n"
     ]
    },
    {
     "data": {
      "text/html": [
       "<pre style=\"white-space:pre;overflow-x:auto;line-height:normal;font-family:Menlo,'DejaVu Sans Mono',consolas,'Courier New',monospace\"><span style=\"font-weight: bold\">Model: \"sequential_7\"</span>\n",
       "</pre>\n"
      ],
      "text/plain": [
       "\u001b[1mModel: \"sequential_7\"\u001b[0m\n"
      ]
     },
     "metadata": {},
     "output_type": "display_data"
    },
    {
     "data": {
      "text/html": [
       "<pre style=\"white-space:pre;overflow-x:auto;line-height:normal;font-family:Menlo,'DejaVu Sans Mono',consolas,'Courier New',monospace\">┏━━━━━━━━━━━━━━━━━━━━━━━━━━━━━━━━━┳━━━━━━━━━━━━━━━━━━━━━━━━┳━━━━━━━━━━━━━━━┓\n",
       "┃<span style=\"font-weight: bold\"> Layer (type)                    </span>┃<span style=\"font-weight: bold\"> Output Shape           </span>┃<span style=\"font-weight: bold\">       Param # </span>┃\n",
       "┡━━━━━━━━━━━━━━━━━━━━━━━━━━━━━━━━━╇━━━━━━━━━━━━━━━━━━━━━━━━╇━━━━━━━━━━━━━━━┩\n",
       "│ embedding_7 (<span style=\"color: #0087ff; text-decoration-color: #0087ff\">Embedding</span>)         │ (<span style=\"color: #00d7ff; text-decoration-color: #00d7ff\">None</span>, <span style=\"color: #00af00; text-decoration-color: #00af00\">500</span>, <span style=\"color: #00af00; text-decoration-color: #00af00\">100</span>)       │     <span style=\"color: #00af00; text-decoration-color: #00af00\">1,000,000</span> │\n",
       "├─────────────────────────────────┼────────────────────────┼───────────────┤\n",
       "│ simple_rnn_5 (<span style=\"color: #0087ff; text-decoration-color: #0087ff\">SimpleRNN</span>)        │ (<span style=\"color: #00d7ff; text-decoration-color: #00d7ff\">None</span>, <span style=\"color: #00af00; text-decoration-color: #00af00\">100</span>)            │        <span style=\"color: #00af00; text-decoration-color: #00af00\">20,100</span> │\n",
       "├─────────────────────────────────┼────────────────────────┼───────────────┤\n",
       "│ dense_5 (<span style=\"color: #0087ff; text-decoration-color: #0087ff\">Dense</span>)                 │ (<span style=\"color: #00d7ff; text-decoration-color: #00d7ff\">None</span>, <span style=\"color: #00af00; text-decoration-color: #00af00\">1</span>)              │           <span style=\"color: #00af00; text-decoration-color: #00af00\">101</span> │\n",
       "└─────────────────────────────────┴────────────────────────┴───────────────┘\n",
       "</pre>\n"
      ],
      "text/plain": [
       "┏━━━━━━━━━━━━━━━━━━━━━━━━━━━━━━━━━┳━━━━━━━━━━━━━━━━━━━━━━━━┳━━━━━━━━━━━━━━━┓\n",
       "┃\u001b[1m \u001b[0m\u001b[1mLayer (type)                   \u001b[0m\u001b[1m \u001b[0m┃\u001b[1m \u001b[0m\u001b[1mOutput Shape          \u001b[0m\u001b[1m \u001b[0m┃\u001b[1m \u001b[0m\u001b[1m      Param #\u001b[0m\u001b[1m \u001b[0m┃\n",
       "┡━━━━━━━━━━━━━━━━━━━━━━━━━━━━━━━━━╇━━━━━━━━━━━━━━━━━━━━━━━━╇━━━━━━━━━━━━━━━┩\n",
       "│ embedding_7 (\u001b[38;5;33mEmbedding\u001b[0m)         │ (\u001b[38;5;45mNone\u001b[0m, \u001b[38;5;34m500\u001b[0m, \u001b[38;5;34m100\u001b[0m)       │     \u001b[38;5;34m1,000,000\u001b[0m │\n",
       "├─────────────────────────────────┼────────────────────────┼───────────────┤\n",
       "│ simple_rnn_5 (\u001b[38;5;33mSimpleRNN\u001b[0m)        │ (\u001b[38;5;45mNone\u001b[0m, \u001b[38;5;34m100\u001b[0m)            │        \u001b[38;5;34m20,100\u001b[0m │\n",
       "├─────────────────────────────────┼────────────────────────┼───────────────┤\n",
       "│ dense_5 (\u001b[38;5;33mDense\u001b[0m)                 │ (\u001b[38;5;45mNone\u001b[0m, \u001b[38;5;34m1\u001b[0m)              │           \u001b[38;5;34m101\u001b[0m │\n",
       "└─────────────────────────────────┴────────────────────────┴───────────────┘\n"
      ]
     },
     "metadata": {},
     "output_type": "display_data"
    },
    {
     "data": {
      "text/html": [
       "<pre style=\"white-space:pre;overflow-x:auto;line-height:normal;font-family:Menlo,'DejaVu Sans Mono',consolas,'Courier New',monospace\"><span style=\"font-weight: bold\"> Total params: </span><span style=\"color: #00af00; text-decoration-color: #00af00\">1,020,203</span> (3.89 MB)\n",
       "</pre>\n"
      ],
      "text/plain": [
       "\u001b[1m Total params: \u001b[0m\u001b[38;5;34m1,020,203\u001b[0m (3.89 MB)\n"
      ]
     },
     "metadata": {},
     "output_type": "display_data"
    },
    {
     "data": {
      "text/html": [
       "<pre style=\"white-space:pre;overflow-x:auto;line-height:normal;font-family:Menlo,'DejaVu Sans Mono',consolas,'Courier New',monospace\"><span style=\"font-weight: bold\"> Trainable params: </span><span style=\"color: #00af00; text-decoration-color: #00af00\">1,020,201</span> (3.89 MB)\n",
       "</pre>\n"
      ],
      "text/plain": [
       "\u001b[1m Trainable params: \u001b[0m\u001b[38;5;34m1,020,201\u001b[0m (3.89 MB)\n"
      ]
     },
     "metadata": {},
     "output_type": "display_data"
    },
    {
     "data": {
      "text/html": [
       "<pre style=\"white-space:pre;overflow-x:auto;line-height:normal;font-family:Menlo,'DejaVu Sans Mono',consolas,'Courier New',monospace\"><span style=\"font-weight: bold\"> Non-trainable params: </span><span style=\"color: #00af00; text-decoration-color: #00af00\">0</span> (0.00 B)\n",
       "</pre>\n"
      ],
      "text/plain": [
       "\u001b[1m Non-trainable params: \u001b[0m\u001b[38;5;34m0\u001b[0m (0.00 B)\n"
      ]
     },
     "metadata": {},
     "output_type": "display_data"
    },
    {
     "data": {
      "text/html": [
       "<pre style=\"white-space:pre;overflow-x:auto;line-height:normal;font-family:Menlo,'DejaVu Sans Mono',consolas,'Courier New',monospace\"><span style=\"font-weight: bold\"> Optimizer params: </span><span style=\"color: #00af00; text-decoration-color: #00af00\">2</span> (12.00 B)\n",
       "</pre>\n"
      ],
      "text/plain": [
       "\u001b[1m Optimizer params: \u001b[0m\u001b[38;5;34m2\u001b[0m (12.00 B)\n"
      ]
     },
     "metadata": {},
     "output_type": "display_data"
    }
   ],
   "source": [
    "model = load_model('simple_run_imdb.h5')\n",
    "model.summary()"
   ]
  },
  {
   "cell_type": "code",
   "execution_count": 9,
   "id": "8d33cabf",
   "metadata": {},
   "outputs": [
    {
     "data": {
      "text/plain": [
       "[array([[-0.23333439, -0.01437624, -0.07374242, ..., -0.20460467,\n",
       "         -0.11856648, -0.0777014 ],\n",
       "        [-0.12970966,  0.1188184 , -0.04513317, ...,  0.03039311,\n",
       "         -0.02548671,  0.05837008],\n",
       "        [-0.0236088 , -0.02299075,  0.04550767, ..., -0.03532545,\n",
       "         -0.02074199,  0.01728287],\n",
       "        ...,\n",
       "        [ 0.03131692,  0.04634917,  0.02105688, ..., -0.04790987,\n",
       "          0.0156857 ,  0.02384729],\n",
       "        [ 0.04433696, -0.00218322, -0.04455174, ...,  0.05528401,\n",
       "          0.07196213, -0.0335132 ],\n",
       "        [-0.04679514,  0.05209509,  0.00536033, ...,  0.10058253,\n",
       "         -0.07750461,  0.07821614]], dtype=float32),\n",
       " array([[ 0.1689612 , -0.25052047, -0.08150385, ..., -0.09900353,\n",
       "          0.09070576, -0.12643172],\n",
       "        [ 0.11503369, -0.08103895,  0.00641065, ..., -0.16645874,\n",
       "          0.04635135, -0.1713046 ],\n",
       "        [ 0.03230063, -0.07790735,  0.05649892, ...,  0.04466237,\n",
       "          0.01144767, -0.11186237],\n",
       "        ...,\n",
       "        [-0.02910907, -0.06077061,  0.11184731, ...,  0.08014177,\n",
       "          0.13335687, -0.08534265],\n",
       "        [-0.10478307, -0.12621282, -0.13928454, ...,  0.1065608 ,\n",
       "         -0.16940184,  0.0526286 ],\n",
       "        [ 0.07442572, -0.16721752, -0.22655424, ...,  0.03435636,\n",
       "          0.24450734, -0.0727772 ]], dtype=float32),\n",
       " array([[ 0.04138809, -0.05649876, -0.14936441, ...,  0.05349858,\n",
       "         -0.03844153, -0.04773176],\n",
       "        [-0.13851875, -0.01232835,  0.09422479, ..., -0.01484506,\n",
       "         -0.03745411,  0.01368803],\n",
       "        [ 0.05280991,  0.01549661, -0.1414205 , ...,  0.08830799,\n",
       "         -0.06132761,  0.08605747],\n",
       "        ...,\n",
       "        [ 0.13667677,  0.02440642,  0.19117108, ..., -0.00154967,\n",
       "         -0.25069344, -0.071319  ],\n",
       "        [-0.06918881, -0.06177868, -0.10159431, ..., -0.05241968,\n",
       "          0.02004082, -0.10200917],\n",
       "        [ 0.04581983,  0.05066963,  0.10292562, ..., -0.10412858,\n",
       "          0.04129492,  0.01747918]], dtype=float32),\n",
       " array([-0.05401841, -0.01342203, -0.01511669,  0.00055102, -0.00169004,\n",
       "        -0.04015641,  0.00736768,  0.01316559,  0.02293072, -0.05354109,\n",
       "         0.00121629, -0.01354576, -0.01036943, -0.01080426,  0.00557656,\n",
       "         0.02175333, -0.03173665, -0.00521194, -0.004345  ,  0.00765926,\n",
       "         0.01413685, -0.0111069 , -0.00142319,  0.02668213,  0.03454901,\n",
       "        -0.01360771,  0.00978409, -0.01876781, -0.011702  , -0.00314307,\n",
       "        -0.03575694,  0.03329714, -0.01245719,  0.00981477,  0.02107362,\n",
       "        -0.04620645,  0.00895039,  0.0261804 ,  0.03602721,  0.00447375,\n",
       "         0.01258156, -0.03608292, -0.01480268, -0.02895617, -0.01613075,\n",
       "        -0.03153832,  0.0032574 ,  0.0137075 , -0.02620809, -0.0040877 ,\n",
       "         0.00138262, -0.00140804, -0.00417275,  0.00930857, -0.02577935,\n",
       "         0.0253213 , -0.01291436,  0.02077313,  0.03994842, -0.0037271 ,\n",
       "        -0.00462602,  0.01791778,  0.01959191, -0.04236258,  0.01660261,\n",
       "        -0.02072583, -0.02697924, -0.01321541,  0.00257929, -0.01653006,\n",
       "        -0.03184943,  0.02596682,  0.02203976,  0.02605562, -0.0397809 ,\n",
       "        -0.01217216, -0.00686762,  0.01270315,  0.01025918,  0.00660479,\n",
       "        -0.02060133, -0.00723061,  0.04958532, -0.05258955, -0.00269998,\n",
       "        -0.03655348,  0.01843911,  0.02584017,  0.00788542,  0.01458927,\n",
       "        -0.04454552, -0.01742071, -0.01385902,  0.01117199, -0.04508816,\n",
       "        -0.00932643,  0.00159579, -0.01715059,  0.02306884, -0.00331593],\n",
       "       dtype=float32),\n",
       " array([[ 5.50891608e-02],\n",
       "        [-7.10479766e-02],\n",
       "        [-3.83336782e-01],\n",
       "        [ 5.42441308e-02],\n",
       "        [-3.13437462e-01],\n",
       "        [ 1.27532840e-01],\n",
       "        [-1.59312963e-01],\n",
       "        [ 9.31210816e-02],\n",
       "        [-3.60610843e-01],\n",
       "        [-1.50281098e-02],\n",
       "        [ 1.72815800e-01],\n",
       "        [-4.27755564e-01],\n",
       "        [ 2.66712159e-01],\n",
       "        [ 2.86729246e-01],\n",
       "        [ 2.56022453e-01],\n",
       "        [ 2.35685289e-01],\n",
       "        [ 2.69967973e-01],\n",
       "        [ 3.37871104e-01],\n",
       "        [ 4.98260744e-02],\n",
       "        [-2.99906850e-01],\n",
       "        [ 8.00345317e-02],\n",
       "        [ 1.30507767e-01],\n",
       "        [ 4.47583973e-01],\n",
       "        [-3.24524105e-01],\n",
       "        [-3.86652768e-01],\n",
       "        [ 2.51426250e-01],\n",
       "        [ 1.13616444e-01],\n",
       "        [ 3.79035592e-01],\n",
       "        [-1.21271364e-01],\n",
       "        [-2.57665306e-01],\n",
       "        [ 3.34793865e-03],\n",
       "        [ 2.16048539e-01],\n",
       "        [-1.72237739e-01],\n",
       "        [ 3.57535988e-01],\n",
       "        [-3.39327902e-01],\n",
       "        [-1.95787326e-01],\n",
       "        [-2.35996917e-01],\n",
       "        [-2.59368986e-01],\n",
       "        [ 2.96401829e-01],\n",
       "        [-1.57314450e-01],\n",
       "        [-3.38570535e-01],\n",
       "        [-4.85786013e-02],\n",
       "        [ 4.34313193e-02],\n",
       "        [ 1.33333318e-02],\n",
       "        [ 2.05899820e-01],\n",
       "        [ 8.82757306e-02],\n",
       "        [ 3.22294235e-01],\n",
       "        [-4.04782206e-01],\n",
       "        [ 4.43865284e-02],\n",
       "        [ 4.88905460e-01],\n",
       "        [ 1.96316034e-01],\n",
       "        [ 2.66387969e-01],\n",
       "        [ 2.01451510e-01],\n",
       "        [-6.32107019e-01],\n",
       "        [-7.36832991e-02],\n",
       "        [ 3.45754445e-01],\n",
       "        [-9.05417651e-02],\n",
       "        [-3.23976547e-01],\n",
       "        [-3.05584580e-01],\n",
       "        [ 3.58292609e-01],\n",
       "        [ 2.99498022e-01],\n",
       "        [ 2.97773361e-01],\n",
       "        [-4.74423170e-02],\n",
       "        [-9.84942168e-03],\n",
       "        [ 9.50933248e-02],\n",
       "        [-3.26170702e-04],\n",
       "        [ 2.06113666e-01],\n",
       "        [-1.33166863e-02],\n",
       "        [ 2.86487103e-01],\n",
       "        [ 4.14163023e-01],\n",
       "        [ 3.70395571e-01],\n",
       "        [ 3.22005838e-01],\n",
       "        [ 3.79142106e-01],\n",
       "        [ 4.76356864e-01],\n",
       "        [ 1.20654285e-01],\n",
       "        [-1.34805113e-01],\n",
       "        [ 1.79579154e-01],\n",
       "        [-7.54574016e-02],\n",
       "        [ 3.67273390e-02],\n",
       "        [-2.11170062e-01],\n",
       "        [-2.78435677e-01],\n",
       "        [ 5.14253318e-01],\n",
       "        [-5.83460808e-01],\n",
       "        [ 1.24475427e-01],\n",
       "        [ 9.15162265e-02],\n",
       "        [ 1.32010244e-02],\n",
       "        [-2.80046344e-01],\n",
       "        [-2.70572990e-01],\n",
       "        [ 2.83249885e-01],\n",
       "        [ 3.20351332e-01],\n",
       "        [ 6.92875758e-02],\n",
       "        [ 1.76080599e-01],\n",
       "        [-3.04037720e-01],\n",
       "        [ 3.19026887e-01],\n",
       "        [ 3.79053354e-01],\n",
       "        [-3.41757029e-01],\n",
       "        [-4.00181800e-01],\n",
       "        [-1.27796441e-01],\n",
       "        [-6.25225082e-02],\n",
       "        [-1.91758513e-01]], dtype=float32),\n",
       " array([0.00386404], dtype=float32)]"
      ]
     },
     "execution_count": 9,
     "metadata": {},
     "output_type": "execute_result"
    }
   ],
   "source": [
    "model.get_weights()"
   ]
  },
  {
   "cell_type": "code",
   "execution_count": 11,
   "id": "0324cc24",
   "metadata": {},
   "outputs": [],
   "source": [
    "def decode_review(encoded_review):\n",
    "    return ''.join(reverse_word_index.get(i-3,'?') for i in encoded_review)\n",
    "\n",
    "\n",
    "def preprocess_text(text):\n",
    "    words = text.lower().split()\n",
    "    encoded_review = [word_index.get(word,2)+3 for word in words]\n",
    "    padded_review = sequence.pad_sequences([encoded_review],maxlen=500)\n",
    "    return padded_review\n",
    "\n",
    "def predict_sentiment(review):\n",
    "    preprocess_input = preprocess_text(review)\n",
    "    prediction = model.predict(preprocess_input)\n",
    "    sentiment = 'positive' if  prediction[0][0] > 0 else \"negative\"\n",
    "    return sentiment,prediction[0][0]"
   ]
  },
  {
   "cell_type": "code",
   "execution_count": 23,
   "id": "c3b3c115",
   "metadata": {},
   "outputs": [
    {
     "name": "stdout",
     "output_type": "stream",
     "text": [
      "\u001b[1m1/1\u001b[0m \u001b[32m━━━━━━━━━━━━━━━━━━━━\u001b[0m\u001b[37m\u001b[0m \u001b[1m0s\u001b[0m 56ms/step\n",
      "review: not good\n",
      "sentiment: positive\n",
      "score: 0.5041826963424683\n"
     ]
    }
   ],
   "source": [
    "#User Input and predict \n",
    "example_review = \"not good\"\n",
    "sentiment,score = predict_sentiment(example_review)\n",
    "\n",
    "print(f\"review: {example_review}\")\n",
    "print(f\"sentiment: {sentiment}\")\n",
    "print(f\"score: {score}\")\n"
   ]
  },
  {
   "cell_type": "code",
   "execution_count": null,
   "id": "7974da5e",
   "metadata": {},
   "outputs": [],
   "source": []
  },
  {
   "cell_type": "code",
   "execution_count": null,
   "id": "ad0b3f74",
   "metadata": {},
   "outputs": [],
   "source": []
  }
 ],
 "metadata": {
  "kernelspec": {
   "display_name": "ai311",
   "language": "python",
   "name": "python3"
  },
  "language_info": {
   "codemirror_mode": {
    "name": "ipython",
    "version": 3
   },
   "file_extension": ".py",
   "mimetype": "text/x-python",
   "name": "python",
   "nbconvert_exporter": "python",
   "pygments_lexer": "ipython3",
   "version": "3.11.13"
  }
 },
 "nbformat": 4,
 "nbformat_minor": 5
}
